{
 "cells": [
  {
   "cell_type": "code",
   "execution_count": 4,
   "id": "6bf291e7",
   "metadata": {},
   "outputs": [],
   "source": [
    "import pandas as pd\n",
    "from sklearn import preprocessing\n",
    "from sklearn.model_selection import train_test_split\n",
    "import numpy as np "
   ]
  },
  {
   "cell_type": "code",
   "execution_count": 5,
   "id": "da1bd43f",
   "metadata": {},
   "outputs": [],
   "source": [
    "dataFrame = pd.read_csv('Data_Set.csv')"
   ]
  },
  {
   "cell_type": "code",
   "execution_count": 6,
   "id": "773373ea",
   "metadata": {},
   "outputs": [
    {
     "data": {
      "text/html": [
       "<div>\n",
       "<style scoped>\n",
       "    .dataframe tbody tr th:only-of-type {\n",
       "        vertical-align: middle;\n",
       "    }\n",
       "\n",
       "    .dataframe tbody tr th {\n",
       "        vertical-align: top;\n",
       "    }\n",
       "\n",
       "    .dataframe thead th {\n",
       "        text-align: right;\n",
       "    }\n",
       "</style>\n",
       "<table border=\"1\" class=\"dataframe\">\n",
       "  <thead>\n",
       "    <tr style=\"text-align: right;\">\n",
       "      <th></th>\n",
       "      <th>battery_power</th>\n",
       "      <th>blue</th>\n",
       "      <th>clock_speed</th>\n",
       "      <th>dual_sim</th>\n",
       "      <th>fc</th>\n",
       "      <th>four_g</th>\n",
       "      <th>int_memory</th>\n",
       "      <th>m_dep</th>\n",
       "      <th>mobile_wt</th>\n",
       "      <th>n_cores</th>\n",
       "      <th>...</th>\n",
       "      <th>px_height</th>\n",
       "      <th>px_width</th>\n",
       "      <th>ram</th>\n",
       "      <th>sc_h</th>\n",
       "      <th>sc_w</th>\n",
       "      <th>talk_time</th>\n",
       "      <th>three_g</th>\n",
       "      <th>touch_screen</th>\n",
       "      <th>wifi</th>\n",
       "      <th>price_range</th>\n",
       "    </tr>\n",
       "  </thead>\n",
       "  <tbody>\n",
       "    <tr>\n",
       "      <th>0</th>\n",
       "      <td>842</td>\n",
       "      <td>0</td>\n",
       "      <td>2.2</td>\n",
       "      <td>0</td>\n",
       "      <td>1</td>\n",
       "      <td>0</td>\n",
       "      <td>7</td>\n",
       "      <td>0.6</td>\n",
       "      <td>188</td>\n",
       "      <td>2</td>\n",
       "      <td>...</td>\n",
       "      <td>20</td>\n",
       "      <td>756</td>\n",
       "      <td>2549</td>\n",
       "      <td>9</td>\n",
       "      <td>7</td>\n",
       "      <td>19</td>\n",
       "      <td>0</td>\n",
       "      <td>0</td>\n",
       "      <td>1</td>\n",
       "      <td>1</td>\n",
       "    </tr>\n",
       "    <tr>\n",
       "      <th>1</th>\n",
       "      <td>1021</td>\n",
       "      <td>1</td>\n",
       "      <td>0.5</td>\n",
       "      <td>1</td>\n",
       "      <td>0</td>\n",
       "      <td>1</td>\n",
       "      <td>53</td>\n",
       "      <td>0.7</td>\n",
       "      <td>136</td>\n",
       "      <td>3</td>\n",
       "      <td>...</td>\n",
       "      <td>905</td>\n",
       "      <td>1988</td>\n",
       "      <td>2631</td>\n",
       "      <td>17</td>\n",
       "      <td>3</td>\n",
       "      <td>7</td>\n",
       "      <td>1</td>\n",
       "      <td>1</td>\n",
       "      <td>0</td>\n",
       "      <td>2</td>\n",
       "    </tr>\n",
       "    <tr>\n",
       "      <th>2</th>\n",
       "      <td>563</td>\n",
       "      <td>1</td>\n",
       "      <td>0.5</td>\n",
       "      <td>1</td>\n",
       "      <td>2</td>\n",
       "      <td>1</td>\n",
       "      <td>41</td>\n",
       "      <td>0.9</td>\n",
       "      <td>145</td>\n",
       "      <td>5</td>\n",
       "      <td>...</td>\n",
       "      <td>1263</td>\n",
       "      <td>1716</td>\n",
       "      <td>2603</td>\n",
       "      <td>11</td>\n",
       "      <td>2</td>\n",
       "      <td>9</td>\n",
       "      <td>1</td>\n",
       "      <td>1</td>\n",
       "      <td>0</td>\n",
       "      <td>2</td>\n",
       "    </tr>\n",
       "    <tr>\n",
       "      <th>3</th>\n",
       "      <td>615</td>\n",
       "      <td>1</td>\n",
       "      <td>2.5</td>\n",
       "      <td>0</td>\n",
       "      <td>0</td>\n",
       "      <td>0</td>\n",
       "      <td>10</td>\n",
       "      <td>0.8</td>\n",
       "      <td>131</td>\n",
       "      <td>6</td>\n",
       "      <td>...</td>\n",
       "      <td>1216</td>\n",
       "      <td>1786</td>\n",
       "      <td>2769</td>\n",
       "      <td>16</td>\n",
       "      <td>8</td>\n",
       "      <td>11</td>\n",
       "      <td>1</td>\n",
       "      <td>0</td>\n",
       "      <td>0</td>\n",
       "      <td>2</td>\n",
       "    </tr>\n",
       "    <tr>\n",
       "      <th>4</th>\n",
       "      <td>1821</td>\n",
       "      <td>1</td>\n",
       "      <td>1.2</td>\n",
       "      <td>0</td>\n",
       "      <td>13</td>\n",
       "      <td>1</td>\n",
       "      <td>44</td>\n",
       "      <td>0.6</td>\n",
       "      <td>141</td>\n",
       "      <td>2</td>\n",
       "      <td>...</td>\n",
       "      <td>1208</td>\n",
       "      <td>1212</td>\n",
       "      <td>1411</td>\n",
       "      <td>8</td>\n",
       "      <td>2</td>\n",
       "      <td>15</td>\n",
       "      <td>1</td>\n",
       "      <td>1</td>\n",
       "      <td>0</td>\n",
       "      <td>1</td>\n",
       "    </tr>\n",
       "    <tr>\n",
       "      <th>...</th>\n",
       "      <td>...</td>\n",
       "      <td>...</td>\n",
       "      <td>...</td>\n",
       "      <td>...</td>\n",
       "      <td>...</td>\n",
       "      <td>...</td>\n",
       "      <td>...</td>\n",
       "      <td>...</td>\n",
       "      <td>...</td>\n",
       "      <td>...</td>\n",
       "      <td>...</td>\n",
       "      <td>...</td>\n",
       "      <td>...</td>\n",
       "      <td>...</td>\n",
       "      <td>...</td>\n",
       "      <td>...</td>\n",
       "      <td>...</td>\n",
       "      <td>...</td>\n",
       "      <td>...</td>\n",
       "      <td>...</td>\n",
       "      <td>...</td>\n",
       "    </tr>\n",
       "    <tr>\n",
       "      <th>1995</th>\n",
       "      <td>794</td>\n",
       "      <td>1</td>\n",
       "      <td>0.5</td>\n",
       "      <td>1</td>\n",
       "      <td>0</td>\n",
       "      <td>1</td>\n",
       "      <td>2</td>\n",
       "      <td>0.8</td>\n",
       "      <td>106</td>\n",
       "      <td>6</td>\n",
       "      <td>...</td>\n",
       "      <td>1222</td>\n",
       "      <td>1890</td>\n",
       "      <td>668</td>\n",
       "      <td>13</td>\n",
       "      <td>4</td>\n",
       "      <td>19</td>\n",
       "      <td>1</td>\n",
       "      <td>1</td>\n",
       "      <td>0</td>\n",
       "      <td>0</td>\n",
       "    </tr>\n",
       "    <tr>\n",
       "      <th>1996</th>\n",
       "      <td>1965</td>\n",
       "      <td>1</td>\n",
       "      <td>2.6</td>\n",
       "      <td>1</td>\n",
       "      <td>0</td>\n",
       "      <td>0</td>\n",
       "      <td>39</td>\n",
       "      <td>0.2</td>\n",
       "      <td>187</td>\n",
       "      <td>4</td>\n",
       "      <td>...</td>\n",
       "      <td>915</td>\n",
       "      <td>1965</td>\n",
       "      <td>2032</td>\n",
       "      <td>11</td>\n",
       "      <td>10</td>\n",
       "      <td>16</td>\n",
       "      <td>1</td>\n",
       "      <td>1</td>\n",
       "      <td>1</td>\n",
       "      <td>2</td>\n",
       "    </tr>\n",
       "    <tr>\n",
       "      <th>1997</th>\n",
       "      <td>1911</td>\n",
       "      <td>0</td>\n",
       "      <td>0.9</td>\n",
       "      <td>1</td>\n",
       "      <td>1</td>\n",
       "      <td>1</td>\n",
       "      <td>36</td>\n",
       "      <td>0.7</td>\n",
       "      <td>108</td>\n",
       "      <td>8</td>\n",
       "      <td>...</td>\n",
       "      <td>868</td>\n",
       "      <td>1632</td>\n",
       "      <td>3057</td>\n",
       "      <td>9</td>\n",
       "      <td>1</td>\n",
       "      <td>5</td>\n",
       "      <td>1</td>\n",
       "      <td>1</td>\n",
       "      <td>0</td>\n",
       "      <td>3</td>\n",
       "    </tr>\n",
       "    <tr>\n",
       "      <th>1998</th>\n",
       "      <td>1512</td>\n",
       "      <td>0</td>\n",
       "      <td>0.9</td>\n",
       "      <td>0</td>\n",
       "      <td>4</td>\n",
       "      <td>1</td>\n",
       "      <td>46</td>\n",
       "      <td>0.1</td>\n",
       "      <td>145</td>\n",
       "      <td>5</td>\n",
       "      <td>...</td>\n",
       "      <td>336</td>\n",
       "      <td>670</td>\n",
       "      <td>869</td>\n",
       "      <td>18</td>\n",
       "      <td>10</td>\n",
       "      <td>19</td>\n",
       "      <td>1</td>\n",
       "      <td>1</td>\n",
       "      <td>1</td>\n",
       "      <td>0</td>\n",
       "    </tr>\n",
       "    <tr>\n",
       "      <th>1999</th>\n",
       "      <td>510</td>\n",
       "      <td>1</td>\n",
       "      <td>2.0</td>\n",
       "      <td>1</td>\n",
       "      <td>5</td>\n",
       "      <td>1</td>\n",
       "      <td>45</td>\n",
       "      <td>0.9</td>\n",
       "      <td>168</td>\n",
       "      <td>6</td>\n",
       "      <td>...</td>\n",
       "      <td>483</td>\n",
       "      <td>754</td>\n",
       "      <td>3919</td>\n",
       "      <td>19</td>\n",
       "      <td>4</td>\n",
       "      <td>2</td>\n",
       "      <td>1</td>\n",
       "      <td>1</td>\n",
       "      <td>1</td>\n",
       "      <td>3</td>\n",
       "    </tr>\n",
       "  </tbody>\n",
       "</table>\n",
       "<p>2000 rows × 21 columns</p>\n",
       "</div>"
      ],
      "text/plain": [
       "      battery_power  blue  clock_speed  dual_sim  fc  four_g  int_memory  \\\n",
       "0               842     0          2.2         0   1       0           7   \n",
       "1              1021     1          0.5         1   0       1          53   \n",
       "2               563     1          0.5         1   2       1          41   \n",
       "3               615     1          2.5         0   0       0          10   \n",
       "4              1821     1          1.2         0  13       1          44   \n",
       "...             ...   ...          ...       ...  ..     ...         ...   \n",
       "1995            794     1          0.5         1   0       1           2   \n",
       "1996           1965     1          2.6         1   0       0          39   \n",
       "1997           1911     0          0.9         1   1       1          36   \n",
       "1998           1512     0          0.9         0   4       1          46   \n",
       "1999            510     1          2.0         1   5       1          45   \n",
       "\n",
       "      m_dep  mobile_wt  n_cores  ...  px_height  px_width   ram  sc_h  sc_w  \\\n",
       "0       0.6        188        2  ...         20       756  2549     9     7   \n",
       "1       0.7        136        3  ...        905      1988  2631    17     3   \n",
       "2       0.9        145        5  ...       1263      1716  2603    11     2   \n",
       "3       0.8        131        6  ...       1216      1786  2769    16     8   \n",
       "4       0.6        141        2  ...       1208      1212  1411     8     2   \n",
       "...     ...        ...      ...  ...        ...       ...   ...   ...   ...   \n",
       "1995    0.8        106        6  ...       1222      1890   668    13     4   \n",
       "1996    0.2        187        4  ...        915      1965  2032    11    10   \n",
       "1997    0.7        108        8  ...        868      1632  3057     9     1   \n",
       "1998    0.1        145        5  ...        336       670   869    18    10   \n",
       "1999    0.9        168        6  ...        483       754  3919    19     4   \n",
       "\n",
       "      talk_time  three_g  touch_screen  wifi  price_range  \n",
       "0            19        0             0     1            1  \n",
       "1             7        1             1     0            2  \n",
       "2             9        1             1     0            2  \n",
       "3            11        1             0     0            2  \n",
       "4            15        1             1     0            1  \n",
       "...         ...      ...           ...   ...          ...  \n",
       "1995         19        1             1     0            0  \n",
       "1996         16        1             1     1            2  \n",
       "1997          5        1             1     0            3  \n",
       "1998         19        1             1     1            0  \n",
       "1999          2        1             1     1            3  \n",
       "\n",
       "[2000 rows x 21 columns]"
      ]
     },
     "execution_count": 6,
     "metadata": {},
     "output_type": "execute_result"
    }
   ],
   "source": [
    "dataFrame"
   ]
  },
  {
   "cell_type": "code",
   "execution_count": 7,
   "id": "cb469cc7",
   "metadata": {},
   "outputs": [],
   "source": [
    "dataset = dataFrame.values"
   ]
  },
  {
   "cell_type": "code",
   "execution_count": 8,
   "id": "cfd2511d",
   "metadata": {},
   "outputs": [
    {
     "data": {
      "text/plain": [
       "array([[8.420e+02, 0.000e+00, 2.200e+00, ..., 0.000e+00, 1.000e+00,\n",
       "        1.000e+00],\n",
       "       [1.021e+03, 1.000e+00, 5.000e-01, ..., 1.000e+00, 0.000e+00,\n",
       "        2.000e+00],\n",
       "       [5.630e+02, 1.000e+00, 5.000e-01, ..., 1.000e+00, 0.000e+00,\n",
       "        2.000e+00],\n",
       "       ...,\n",
       "       [1.911e+03, 0.000e+00, 9.000e-01, ..., 1.000e+00, 0.000e+00,\n",
       "        3.000e+00],\n",
       "       [1.512e+03, 0.000e+00, 9.000e-01, ..., 1.000e+00, 1.000e+00,\n",
       "        0.000e+00],\n",
       "       [5.100e+02, 1.000e+00, 2.000e+00, ..., 1.000e+00, 1.000e+00,\n",
       "        3.000e+00]])"
      ]
     },
     "execution_count": 8,
     "metadata": {},
     "output_type": "execute_result"
    }
   ],
   "source": [
    "dataset"
   ]
  },
  {
   "cell_type": "code",
   "execution_count": 9,
   "id": "bdb4a54d",
   "metadata": {},
   "outputs": [],
   "source": [
    "X_var = dataset[:,0:20]"
   ]
  },
  {
   "cell_type": "code",
   "execution_count": 10,
   "id": "1ad47291",
   "metadata": {},
   "outputs": [],
   "source": [
    "Y_var = dataset[:,20]"
   ]
  },
  {
   "cell_type": "code",
   "execution_count": 11,
   "id": "f336d47b",
   "metadata": {},
   "outputs": [],
   "source": [
    "min_max_scaler = preprocessing.MinMaxScaler()\n",
    "X_scl = min_max_scaler.fit_transform(X_var)"
   ]
  },
  {
   "cell_type": "code",
   "execution_count": 12,
   "id": "2d051be5",
   "metadata": {},
   "outputs": [
    {
     "data": {
      "text/plain": [
       "array([[0.22778891, 0.        , 0.68      , ..., 0.        , 0.        ,\n",
       "        1.        ],\n",
       "       [0.34736139, 1.        , 0.        , ..., 1.        , 1.        ,\n",
       "        0.        ],\n",
       "       [0.04141617, 1.        , 0.        , ..., 1.        , 1.        ,\n",
       "        0.        ],\n",
       "       ...,\n",
       "       [0.94188377, 0.        , 0.16      , ..., 1.        , 1.        ,\n",
       "        0.        ],\n",
       "       [0.6753507 , 0.        , 0.16      , ..., 1.        , 1.        ,\n",
       "        1.        ],\n",
       "       [0.00601202, 1.        , 0.6       , ..., 1.        , 1.        ,\n",
       "        1.        ]])"
      ]
     },
     "execution_count": 12,
     "metadata": {},
     "output_type": "execute_result"
    }
   ],
   "source": [
    "X_scl"
   ]
  },
  {
   "cell_type": "code",
   "execution_count": 13,
   "id": "e3091e7c",
   "metadata": {},
   "outputs": [],
   "source": [
    "Y_var = dataFrame['price_range']"
   ]
  },
  {
   "cell_type": "code",
   "execution_count": 14,
   "id": "994f9657",
   "metadata": {},
   "outputs": [],
   "source": [
    "X_training, X_valid_and_test, Y_training, Y_valid_and_test = train_test_split(X_scl, Y_var, test_size=0.2 , random_state=42)"
   ]
  },
  {
   "cell_type": "code",
   "execution_count": 15,
   "id": "690e22ce",
   "metadata": {},
   "outputs": [
    {
     "data": {
      "text/plain": [
       "array([[0.76486306, 0.        , 0.8       , ..., 1.        , 1.        ,\n",
       "        0.        ],\n",
       "       [0.45490982, 0.        , 0.        , ..., 1.        , 0.        ,\n",
       "        0.        ],\n",
       "       [0.98263193, 0.        , 0.96      , ..., 1.        , 1.        ,\n",
       "        0.        ],\n",
       "       ...,\n",
       "       [0.36272545, 0.        , 0.52      , ..., 1.        , 1.        ,\n",
       "        1.        ],\n",
       "       [0.15163661, 0.        , 0.88      , ..., 1.        , 1.        ,\n",
       "        1.        ],\n",
       "       [0.45691383, 0.        , 0.56      , ..., 1.        , 1.        ,\n",
       "        1.        ]])"
      ]
     },
     "execution_count": 15,
     "metadata": {},
     "output_type": "execute_result"
    }
   ],
   "source": [
    " X_valid_and_test"
   ]
  },
  {
   "cell_type": "code",
   "execution_count": 16,
   "id": "f7c07e3f",
   "metadata": {},
   "outputs": [],
   "source": [
    "X_valid, X_testing, Y_valid, Y_testing = train_test_split(X_valid_and_test, Y_valid_and_test, test_size=0.5)"
   ]
  },
  {
   "cell_type": "code",
   "execution_count": 17,
   "id": "e2b56115",
   "metadata": {},
   "outputs": [
    {
     "name": "stdout",
     "output_type": "stream",
     "text": [
      "(1600, 20) (200, 20) (200, 20) (1600,) (200,) (200,)\n"
     ]
    }
   ],
   "source": [
    "print(X_training.shape, X_valid.shape, X_testing.shape, Y_training.shape, Y_valid.shape, Y_testing.shape)"
   ]
  },
  {
   "cell_type": "code",
   "execution_count": 18,
   "id": "28c9f13b",
   "metadata": {},
   "outputs": [],
   "source": [
    "from keras.models import Sequential\n",
    "from keras.layers import Dense\n",
    "from keras.losses import SparseCategoricalCrossentropy\n",
    "from keras.optimizers import Adam\n",
    "\n",
    "model = Sequential([\n",
    " Dense(10, activation=\"relu\", input_shape=(20,)),\n",
    " Dense(15,activation='relu'),\n",
    " Dense(4,activation='softmax')\n",
    "])\n",
    "model.compile(\n",
    "   loss = SparseCategoricalCrossentropy(),\n",
    "   optimizer = Adam(),\n",
    "   metrics=\"accuracy\")"
   ]
  },
  {
   "cell_type": "code",
   "execution_count": 19,
   "id": "69c3ca70",
   "metadata": {},
   "outputs": [
    {
     "name": "stdout",
     "output_type": "stream",
     "text": [
      "Epoch 1/25\n",
      "50/50 [==============================] - 2s 3ms/step - loss: 1.4322 - accuracy: 0.2425\n",
      "Epoch 2/25\n",
      "50/50 [==============================] - 0s 2ms/step - loss: 1.3883 - accuracy: 0.2912\n",
      "Epoch 3/25\n",
      "50/50 [==============================] - 0s 2ms/step - loss: 1.3604 - accuracy: 0.3106\n",
      "Epoch 4/25\n",
      "50/50 [==============================] - 0s 2ms/step - loss: 1.3284 - accuracy: 0.3506\n",
      "Epoch 5/25\n",
      "50/50 [==============================] - 0s 2ms/step - loss: 1.2779 - accuracy: 0.3869\n",
      "Epoch 6/25\n",
      "50/50 [==============================] - 0s 2ms/step - loss: 1.2047 - accuracy: 0.4375\n",
      "Epoch 7/25\n",
      "50/50 [==============================] - 0s 2ms/step - loss: 1.1200 - accuracy: 0.5269\n",
      "Epoch 8/25\n",
      "50/50 [==============================] - 0s 2ms/step - loss: 1.0299 - accuracy: 0.5650\n",
      "Epoch 9/25\n",
      "50/50 [==============================] - 0s 2ms/step - loss: 0.9398 - accuracy: 0.6600\n",
      "Epoch 10/25\n",
      "50/50 [==============================] - 0s 2ms/step - loss: 0.8589 - accuracy: 0.7106\n",
      "Epoch 11/25\n",
      "50/50 [==============================] - 0s 2ms/step - loss: 0.7899 - accuracy: 0.7400\n",
      "Epoch 12/25\n",
      "50/50 [==============================] - 0s 2ms/step - loss: 0.7279 - accuracy: 0.7744\n",
      "Epoch 13/25\n",
      "50/50 [==============================] - 0s 2ms/step - loss: 0.6733 - accuracy: 0.7975\n",
      "Epoch 14/25\n",
      "50/50 [==============================] - 0s 2ms/step - loss: 0.6289 - accuracy: 0.8031\n",
      "Epoch 15/25\n",
      "50/50 [==============================] - 0s 2ms/step - loss: 0.5865 - accuracy: 0.8219\n",
      "Epoch 16/25\n",
      "50/50 [==============================] - 0s 2ms/step - loss: 0.5475 - accuracy: 0.8381\n",
      "Epoch 17/25\n",
      "50/50 [==============================] - 0s 2ms/step - loss: 0.5147 - accuracy: 0.8475\n",
      "Epoch 18/25\n",
      "50/50 [==============================] - 0s 2ms/step - loss: 0.4873 - accuracy: 0.8544\n",
      "Epoch 19/25\n",
      "50/50 [==============================] - 0s 2ms/step - loss: 0.4653 - accuracy: 0.8544\n",
      "Epoch 20/25\n",
      "50/50 [==============================] - 0s 2ms/step - loss: 0.4399 - accuracy: 0.8694\n",
      "Epoch 21/25\n",
      "50/50 [==============================] - 0s 2ms/step - loss: 0.4174 - accuracy: 0.8800\n",
      "Epoch 22/25\n",
      "50/50 [==============================] - 0s 2ms/step - loss: 0.4002 - accuracy: 0.8800\n",
      "Epoch 23/25\n",
      "50/50 [==============================] - 0s 2ms/step - loss: 0.3840 - accuracy: 0.8869\n",
      "Epoch 24/25\n",
      "50/50 [==============================] - 0s 2ms/step - loss: 0.3683 - accuracy: 0.8863\n",
      "Epoch 25/25\n",
      "50/50 [==============================] - 0s 2ms/step - loss: 0.3518 - accuracy: 0.9044\n"
     ]
    },
    {
     "data": {
      "text/plain": [
       "<keras.callbacks.History at 0x1b877d6fe50>"
      ]
     },
     "execution_count": 19,
     "metadata": {},
     "output_type": "execute_result"
    }
   ],
   "source": [
    "model.fit(X_training,Y_training,epochs=25)"
   ]
  },
  {
   "cell_type": "code",
   "execution_count": 20,
   "id": "07bdc598",
   "metadata": {},
   "outputs": [
    {
     "name": "stdout",
     "output_type": "stream",
     "text": [
      "7/7 [==============================] - 0s 5ms/step - loss: 0.3154 - accuracy: 0.9400\n"
     ]
    },
    {
     "data": {
      "text/plain": [
       "0.9399999976158142"
      ]
     },
     "execution_count": 20,
     "metadata": {},
     "output_type": "execute_result"
    }
   ],
   "source": [
    "model.evaluate(X_testing, Y_testing)[1]"
   ]
  },
  {
   "cell_type": "code",
   "execution_count": 22,
   "id": "f276293a",
   "metadata": {},
   "outputs": [],
   "source": [
    "# creating an array of predictions from a matrix of percentages of classifications\n",
    "def predictionrelease(predict):\n",
    "    arr=[]\n",
    "    for i in range(0,len(predict)):\n",
    "        ans=np.argmax(predict[i])\n",
    "        arr.append(ans)\n",
    "    len(arr)\n",
    "    return arr"
   ]
  },
  {
   "cell_type": "code",
   "execution_count": 23,
   "id": "ce3c5b62",
   "metadata": {},
   "outputs": [
    {
     "name": "stdout",
     "output_type": "stream",
     "text": [
      "7/7 [==============================] - 0s 3ms/step\n"
     ]
    }
   ],
   "source": [
    "#testing the cross value sets\n",
    "predict_test = model.predict(X_testing)      \n",
    "test_predict = predictionrelease(predict_test)"
   ]
  },
  {
   "cell_type": "code",
   "execution_count": 24,
   "id": "4b885fcf",
   "metadata": {},
   "outputs": [
    {
     "name": "stdout",
     "output_type": "stream",
     "text": [
      "              precision    recall  f1-score   support\n",
      "\n",
      "           0       1.00      0.98      0.99        60\n",
      "           1       0.93      0.95      0.94        41\n",
      "           2       0.88      0.89      0.88        47\n",
      "           3       0.94      0.92      0.93        52\n",
      "\n",
      "    accuracy                           0.94       200\n",
      "   macro avg       0.94      0.94      0.94       200\n",
      "weighted avg       0.94      0.94      0.94       200\n",
      "\n"
     ]
    }
   ],
   "source": [
    "from sklearn.metrics import classification_report,confusion_matrix\n",
    "#cross validation\n",
    "print(classification_report(Y_testing,test_predict)) "
   ]
  },
  {
   "cell_type": "code",
   "execution_count": null,
   "id": "671d2a57",
   "metadata": {},
   "outputs": [],
   "source": []
  }
 ],
 "metadata": {
  "kernelspec": {
   "display_name": "Python 3 (ipykernel)",
   "language": "python",
   "name": "python3"
  },
  "language_info": {
   "codemirror_mode": {
    "name": "ipython",
    "version": 3
   },
   "file_extension": ".py",
   "mimetype": "text/x-python",
   "name": "python",
   "nbconvert_exporter": "python",
   "pygments_lexer": "ipython3",
   "version": "3.9.13"
  }
 },
 "nbformat": 4,
 "nbformat_minor": 5
}
